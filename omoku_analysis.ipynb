{
 "cells": [
  {
   "cell_type": "markdown",
   "id": "1b5bc16b-0a8c-4678-a6c9-37f17725d54e",
   "metadata": {},
   "source": [
    "## A practice on data exploration and simple analysis using a secodary data.\n",
    "> * the first step is to import the **pandas** function and initialise it"
   ]
  },
  {
   "cell_type": "code",
   "execution_count": null,
   "id": "a8031a6a-5cf7-442b-b390-6bde59e96671",
   "metadata": {},
   "outputs": [],
   "source": [
    "import pandas as pd"
   ]
  },
  {
   "cell_type": "markdown",
   "id": "74eab7d1-625c-46e5-b7a0-9924ab7e2d04",
   "metadata": {},
   "source": [
    "* the code below reads the file containing the omoko data into a dataframe."
   ]
  },
  {
   "cell_type": "code",
   "execution_count": null,
   "id": "c2c3fe41-09fc-460a-bab8-22d7640bca82",
   "metadata": {},
   "outputs": [],
   "source": [
    "omoku = pd.read_csv('omoku_data.csv') #names=['date', 'power_on', 'power_out']) \n",
    "omoku"
   ]
  },
  {
   "cell_type": "code",
   "execution_count": null,
   "id": "2d57b6b0-8f5b-477b-afbe-18f088853418",
   "metadata": {},
   "outputs": [],
   "source": [
    "omoku.describe()"
   ]
  },
  {
   "cell_type": "markdown",
   "id": "6c7fb84c-c4a3-426a-97f0-1471c156cc36",
   "metadata": {},
   "source": [
    "* for simple computations like mean,max,and min, numpy will be used to achieve that, therefore, I'll import numpy as np."
   ]
  },
  {
   "cell_type": "code",
   "execution_count": null,
   "id": "fb6f1cd8-e966-44e0-ada4-bbbd970ae6c9",
   "metadata": {},
   "outputs": [],
   "source": [
    "import numpy as np"
   ]
  },
  {
   "cell_type": "code",
   "execution_count": null,
   "id": "f7b3cf4b-ae50-4224-b389-3dbfc5e98ddf",
   "metadata": {},
   "outputs": [],
   "source": [
    "power_on = omoku['Power_time']\n",
    "power_on"
   ]
  },
  {
   "cell_type": "markdown",
   "id": "cb0534b1-2fc3-497b-b973-dbf8d61e0fbd",
   "metadata": {},
   "source": [
    "* calculating the mean, max, and min of power time in Omoku for the period under review"
   ]
  },
  {
   "cell_type": "code",
   "execution_count": null,
   "id": "43f953e8-15e7-40db-bdd8-2e80794ab93e",
   "metadata": {},
   "outputs": [],
   "source": [
    "np.mean(power_on)"
   ]
  },
  {
   "cell_type": "code",
   "execution_count": null,
   "id": "77c6a746-ab79-425d-8b85-8c79f2e7a77e",
   "metadata": {},
   "outputs": [],
   "source": [
    "np.max(power_on)"
   ]
  },
  {
   "cell_type": "code",
   "execution_count": null,
   "id": "bc08bdac-46ae-4e01-9e4c-2f021f899194",
   "metadata": {},
   "outputs": [],
   "source": [
    "np.min(power_on)"
   ]
  },
  {
   "cell_type": "markdown",
   "id": "c8c54c23-dc8e-42c6-a59f-56ed5274a54e",
   "metadata": {},
   "source": [
    "* handling missing data."
   ]
  },
  {
   "cell_type": "code",
   "execution_count": null,
   "id": "4a7c7441-a84d-478d-bf1a-ab3804d7cf83",
   "metadata": {},
   "outputs": [],
   "source": [
    "new_data = omoku.fillna(0) # as the NaN values will have no effect on the outcome of the analysis, I filled them with zeros\n",
    "new_data"
   ]
  },
  {
   "cell_type": "markdown",
   "id": "008530bd-d206-4be8-8d09-fcc8cd4a97ab",
   "metadata": {},
   "source": [
    "#### doing groupby operations"
   ]
  },
  {
   "cell_type": "code",
   "execution_count": null,
   "id": "b42b731b-dda7-4545-ae63-94246d7106f3",
   "metadata": {},
   "outputs": [],
   "source": [
    "omoku"
   ]
  },
  {
   "cell_type": "code",
   "execution_count": null,
   "id": "26663cec-9e07-4ed3-b3fe-b205303b8150",
   "metadata": {},
   "outputs": [],
   "source": [
    "omoku.groupby('Date')['Power_time'].mean()"
   ]
  },
  {
   "cell_type": "code",
   "execution_count": null,
   "id": "4dd7dfa0-d8ce-4050-8fa3-6d5bf53ec865",
   "metadata": {},
   "outputs": [],
   "source": [
    "omoku.groupby('Date')['Power_time'].count()"
   ]
  },
  {
   "cell_type": "code",
   "execution_count": null,
   "id": "2f15defc-1199-4a11-9468-ab6ae1df6b3e",
   "metadata": {},
   "outputs": [],
   "source": [
    "omoku.groupby('Date')['Power_time'].max()"
   ]
  },
  {
   "cell_type": "code",
   "execution_count": null,
   "id": "7cfd0234-b1bb-4347-814b-6f35c7d39eaa",
   "metadata": {},
   "outputs": [],
   "source": []
  }
 ],
 "metadata": {
  "kernelspec": {
   "display_name": "Python 3 (ipykernel)",
   "language": "python",
   "name": "python3"
  },
  "language_info": {
   "codemirror_mode": {
    "name": "ipython",
    "version": 3
   },
   "file_extension": ".py",
   "mimetype": "text/x-python",
   "name": "python",
   "nbconvert_exporter": "python",
   "pygments_lexer": "ipython3",
   "version": "3.11.5"
  }
 },
 "nbformat": 4,
 "nbformat_minor": 5
}
