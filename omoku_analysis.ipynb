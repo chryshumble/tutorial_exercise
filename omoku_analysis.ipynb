{
 "cells": [
  {
   "cell_type": "markdown",
   "id": "1b5bc16b-0a8c-4678-a6c9-37f17725d54e",
   "metadata": {},
   "source": [
    "## A practice on data exploration and simple analysis using a secondary data.\n",
    "> * the first step is to import the **pandas** module/library and initialise it"
   ]
  },
  {
   "cell_type": "code",
   "execution_count": null,
   "id": "a8031a6a-5cf7-442b-b390-6bde59e96671",
   "metadata": {},
   "outputs": [],
   "source": [
    "import pandas as pd"
   ]
  },
  {
   "cell_type": "markdown",
   "id": "74eab7d1-625c-46e5-b7a0-9924ab7e2d04",
   "metadata": {},
   "source": [
    "* the code below reads the file containing the omoku data into a dataframe."
   ]
  },
  {
   "cell_type": "code",
   "execution_count": null,
   "id": "c2c3fe41-09fc-460a-bab8-22d7640bca82",
   "metadata": {},
   "outputs": [],
   "source": [
    "omoku = pd.read_csv('omoku_data.csv') #names=['date', 'power_on', 'power_out']) \n",
    "omoku"
   ]
  },
  {
   "cell_type": "code",
   "execution_count": null,
   "id": "2d57b6b0-8f5b-477b-afbe-18f088853418",
   "metadata": {},
   "outputs": [],
   "source": [
    "omoku.describe()"
   ]
  },
  {
   "cell_type": "markdown",
   "id": "6c7fb84c-c4a3-426a-97f0-1471c156cc36",
   "metadata": {},
   "source": [
    "* for simple computations like mean(average) max, and min, numpy will be used to achieve that, therefore, I'll import numpy as np."
   ]
  },
  {
   "cell_type": "code",
   "execution_count": null,
   "id": "fb6f1cd8-e966-44e0-ada4-bbbd970ae6c9",
   "metadata": {},
   "outputs": [],
   "source": [
    "import numpy as np"
   ]
  },
  {
   "cell_type": "code",
   "execution_count": null,
   "id": "f7b3cf4b-ae50-4224-b389-3dbfc5e98ddf",
   "metadata": {},
   "outputs": [],
   "source": [
    "power_on = omoku['Power_time']\n",
    "power_on"
   ]
  },
  {
   "cell_type": "markdown",
   "id": "cb0534b1-2fc3-497b-b973-dbf8d61e0fbd",
   "metadata": {},
   "source": [
    "* calculating the mean, max, and min of power time in Omoku for the period under review"
   ]
  },
  {
   "cell_type": "code",
   "execution_count": null,
   "id": "43f953e8-15e7-40db-bdd8-2e80794ab93e",
   "metadata": {},
   "outputs": [],
   "source": [
    "np.mean(power_on)"
   ]
  },
  {
   "cell_type": "code",
   "execution_count": null,
   "id": "77c6a746-ab79-425d-8b85-8c79f2e7a77e",
   "metadata": {},
   "outputs": [],
   "source": [
    "np.max(power_on)"
   ]
  },
  {
   "cell_type": "code",
   "execution_count": null,
   "id": "bc08bdac-46ae-4e01-9e4c-2f021f899194",
   "metadata": {},
   "outputs": [],
   "source": [
    "np.min(power_on)"
   ]
  },
  {
   "cell_type": "markdown",
   "id": "c8c54c23-dc8e-42c6-a59f-56ed5274a54e",
   "metadata": {},
   "source": [
    "* handling missing data."
   ]
  },
  {
   "cell_type": "code",
   "execution_count": null,
   "id": "8b5d44f1-9895-44d2-b34f-cc65faac1afb",
   "metadata": {},
   "outputs": [],
   "source": [
    "omoku[omoku['Power_time'].isna()]"
   ]
  },
  {
   "cell_type": "code",
   "execution_count": null,
   "id": "03327112-89be-49c1-851a-4ac673bb9109",
   "metadata": {},
   "outputs": [],
   "source": [
    "omoku[omoku['Power_time']==0]"
   ]
  },
  {
   "cell_type": "code",
   "execution_count": null,
   "id": "da80019b-3a43-4c26-a66f-2775c9f409c7",
   "metadata": {},
   "outputs": [],
   "source": [
    "omoku[omoku['Remark'].notna()]"
   ]
  },
  {
   "cell_type": "code",
   "execution_count": null,
   "id": "4a7c7441-a84d-478d-bf1a-ab3804d7cf83",
   "metadata": {},
   "outputs": [],
   "source": [
    "new_data = omoku.fillna(0) # as the NaN values will have no effect on the outcome of the analysis, I filled them with zeros\n",
    "new_data"
   ]
  },
  {
   "cell_type": "markdown",
   "id": "32067c0f-3749-4264-b9a8-840faf713bac",
   "metadata": {},
   "source": [
    "* an updated data on omoku power supply"
   ]
  },
  {
   "cell_type": "code",
   "execution_count": null,
   "id": "df5ee3fe-4409-4187-ad3d-96e944f59002",
   "metadata": {},
   "outputs": [],
   "source": [
    "omoku_updated = pd.read_csv('omoku_data.csv', parse_dates=True)\n",
    "omoku_updated"
   ]
  },
  {
   "cell_type": "code",
   "execution_count": null,
   "id": "4b324554-2936-4b67-8724-326445d17a5d",
   "metadata": {},
   "outputs": [],
   "source": [
    "def format_df(df):\n",
    "    df['Date'] = df['Date'].astype('datetime64[ns]')\n",
    "    df = df.set_index('Date')\n",
    "    return df"
   ]
  },
  {
   "cell_type": "code",
   "execution_count": null,
   "id": "1520c5fb-15be-4d0f-9d82-9a1e404ca57c",
   "metadata": {},
   "outputs": [],
   "source": [
    "omoku_updated = format_df(omoku_updated)\n",
    "omoku_updated"
   ]
  },
  {
   "cell_type": "markdown",
   "id": "dfd2fd60-97f1-4805-b1ca-7496049f3373",
   "metadata": {},
   "source": [
    "* dropping the rows with NaN values\n",
    "  > first, the power_time column is cleaned off the NaN values"
   ]
  },
  {
   "cell_type": "code",
   "execution_count": null,
   "id": "13e8c159-1a43-4881-abea-9a717500f0a6",
   "metadata": {},
   "outputs": [],
   "source": [
    "omoku_on = omoku_updated['Power_time'].dropna()\n",
    "omoku_on"
   ]
  },
  {
   "cell_type": "markdown",
   "id": "4c28c375-2a50-46c5-973e-3c27066b834e",
   "metadata": {},
   "source": [
    "* here, the outage column is cleaned and the NaN values dropped."
   ]
  },
  {
   "cell_type": "code",
   "execution_count": null,
   "id": "6181e583-b796-4874-8190-c9963fd34e02",
   "metadata": {},
   "outputs": [],
   "source": [
    "omoku_off = omoku_updated['Outages'].dropna()\n",
    "omoku_off"
   ]
  },
  {
   "cell_type": "markdown",
   "id": "e3dd86e0-835b-4250-8db9-41c23b6c61b7",
   "metadata": {},
   "source": [
    "* we now have two sets of new data for the _power_time_ and _outages_, so we will merge them on\n",
    "the 'Date' column to get a new set of data called **omoku_power**"
   ]
  },
  {
   "cell_type": "code",
   "execution_count": null,
   "id": "f17fa3ab-23ec-4845-98f7-9b8119499952",
   "metadata": {},
   "outputs": [],
   "source": [
    "omoku_power = pd.merge(omoku_on, omoku_off, on='Date')\n",
    "omoku_power"
   ]
  },
  {
   "cell_type": "markdown",
   "id": "cf0e4d34-3b6f-4707-99b5-9a25a9867569",
   "metadata": {},
   "source": [
    "* to make sure there is no NaN values in the new data set, we use the _isna_ syntax below to check."
   ]
  },
  {
   "cell_type": "code",
   "execution_count": null,
   "id": "6ec7d256-f788-40da-b331-ee0ce3f812bf",
   "metadata": {},
   "outputs": [],
   "source": [
    "omoku_power.isna().sum()"
   ]
  },
  {
   "cell_type": "markdown",
   "id": "e4e55ada-e1af-46a0-a60b-9da5d9237834",
   "metadata": {},
   "source": [
    "* for easy presentation and interpretation, the data will be resampled(aggregated) into weekly and monthly supply.\n",
    "> first, let's resample the data into monthly supply."
   ]
  },
  {
   "cell_type": "code",
   "execution_count": null,
   "id": "c61deafb-3f76-4db7-99f9-40b7d4bc3595",
   "metadata": {},
   "outputs": [],
   "source": [
    "omoku_monthly_supply = omoku_power.asfreq('ME')\n",
    "omoku_monthly_supply"
   ]
  },
  {
   "cell_type": "markdown",
   "id": "2813128c-f943-4bab-bb4d-16750ec73c97",
   "metadata": {},
   "source": [
    "* weekly aggregation/ resampling"
   ]
  },
  {
   "cell_type": "code",
   "execution_count": null,
   "id": "a254ba6a-64c8-40c8-8f34-b35acdbc317b",
   "metadata": {},
   "outputs": [],
   "source": [
    "omoku_weekly = omoku_power.asfreq('W')\n",
    "omoku_weekly"
   ]
  },
  {
   "cell_type": "markdown",
   "id": "8393eac3-db9a-4145-ac5a-5078a67b92e3",
   "metadata": {},
   "source": [
    "* using bokeh to make some plots using the omoku_power data"
   ]
  },
  {
   "cell_type": "code",
   "execution_count": null,
   "id": "4d7154f8-0eb3-4c89-8ac5-afcf75e969d6",
   "metadata": {},
   "outputs": [],
   "source": [
    "from bokeh.plotting import figure, show\n",
    "from bokeh.io import output_notebook\n",
    "from bokeh.models import ColumnDataSource\n",
    "import pandas as pd\n",
    "from datetime import datetime, timedelta\n",
    "from bokeh.layouts import row\n",
    "output_notebook()"
   ]
  },
  {
   "cell_type": "code",
   "execution_count": null,
   "id": "4c5e749a-6de7-4ff1-85ee-e0256ca1acb2",
   "metadata": {},
   "outputs": [],
   "source": [
    "omoku_monthly_supply"
   ]
  },
  {
   "cell_type": "code",
   "execution_count": null,
   "id": "7fb191c6-221e-40bc-9d91-4398530d4df7",
   "metadata": {},
   "outputs": [],
   "source": [
    "omoku_monthly_supply.index"
   ]
  },
  {
   "cell_type": "markdown",
   "id": "62c434b0-446a-454a-b109-d1ccea4b890e",
   "metadata": {},
   "source": [
    "### making a time series plot with the monthly power supply."
   ]
  },
  {
   "cell_type": "code",
   "execution_count": null,
   "id": "1b3142f3-b1c9-49bc-8a0e-a76f2f15bf03",
   "metadata": {},
   "outputs": [],
   "source": [
    "data = omoku_monthly_supply\n",
    "\n",
    "\n",
    "p = figure(x_axis_type='datetime', title='Power supply in Omoku', width=800, height =400, x_axis_label='MONTHS IN REVIEW', y_axis_label='POWER_DURATION(hours)')\n",
    "           \n",
    "p.line(x='Date', y='Power_time', legend_label='Power_time', source=data, line_width = 2, color = 'red', alpha = 0.7)  \n",
    "p.line(x='Date', y=\"Outages\", legend_label='Outages', source=data, line_width =2, color= 'green', alpha = 0.7)\n",
    "p.legend.title = 'legend'\n",
    "p.legend.label_text_font = \"times\"\n",
    "p.legend.label_text_font_style = \"italic\"\n",
    "p.legend.label_text_color = \"black\"\n",
    "\n",
    "# change border and background of legend\n",
    "p.legend.border_line_width = 3\n",
    "p.legend.border_line_color = \"blue\"\n",
    "p.legend.border_line_alpha = 0.2\n",
    "p.legend.background_fill_color = \"navy\"\n",
    "p.legend.background_fill_alpha = 0.2\n",
    "\n",
    "show(p)           "
   ]
  },
  {
   "cell_type": "markdown",
   "id": "95ab2997-2170-4843-9562-38b036277797",
   "metadata": {},
   "source": [
    "### A double scatter plot on a row"
   ]
  },
  {
   "cell_type": "code",
   "execution_count": null,
   "id": "954c90d2-c47c-4d04-a7a9-d82ba811d49e",
   "metadata": {},
   "outputs": [],
   "source": [
    "data = omoku_monthly_supply\n",
    "s1 = figure(x_axis_type='datetime', title='omoku power supply', x_axis_label='months', y_axis_label='power_on_duration', width=450, height=350, background_fill_color=\"#fafafa\")\n",
    "s1.scatter(x='Date', y='Power_time',source=data, marker=\"circle\", size=16, color=\"#53777a\", alpha=0.8)\n",
    "\n",
    "s2 = figure(x_axis_type='datetime', title='omoku power supply', x_axis_label='months', y_axis_label='power_off_duration', width=450, height=350, background_fill_color=\"#fafafa\")\n",
    "s2.scatter(x='Date', y='Outages', source=data, marker=\"triangle\", size=16, color=\"#c02942\", alpha=0.8)\n",
    "\n",
    "show(row(children=[s1, s2], sizing_mode=\"scale_width\"))\n"
   ]
  },
  {
   "cell_type": "code",
   "execution_count": null,
   "id": "d19ba14d-9d85-4507-907e-37b3e2589aa0",
   "metadata": {},
   "outputs": [],
   "source": [
    "omoku_weekly"
   ]
  },
  {
   "cell_type": "code",
   "execution_count": null,
   "id": "63f4d075-ab3a-4ec2-8e69-adb5c9ff99d7",
   "metadata": {},
   "outputs": [],
   "source": [
    "omoku_weekly.index"
   ]
  },
  {
   "cell_type": "markdown",
   "id": "affa1e5c-0f19-4b1a-b3be-a459b73be32a",
   "metadata": {},
   "source": [
    "### making a weekly time series plot with the data frame"
   ]
  },
  {
   "cell_type": "code",
   "execution_count": null,
   "id": "29beb391-1477-4452-b23c-87735ae92bc5",
   "metadata": {},
   "outputs": [],
   "source": [
    "data = omoku_weekly\n",
    "\n",
    "p = figure(x_axis_type='datetime', title='Power supply in Omoku', width=1200, height =400, x_axis_label='WEEKS IN REVIEW', y_axis_label='POWER_DURATION(hours)')\n",
    "           \n",
    "p.line(x='Date', y='Power_time', legend_label='Power_time', source=data, line_width = 2, color = 'red', alpha = 0.7)  \n",
    "p.line(x='Date', y=\"Outages\", legend_label='Outages', source=data, line_width =2, color= 'green', alpha = 0.7)\n",
    "p.legend.title = 'legend'\n",
    "p.legend.label_text_font = \"times\"\n",
    "p.legend.label_text_font_style = \"italic\"\n",
    "p.legend.label_text_color = \"black\"\n",
    "\n",
    "# change border and background of legend\n",
    "p.legend.border_line_width = 3\n",
    "p.legend.border_line_color = \"blue\"\n",
    "p.legend.border_line_alpha = 0.2\n",
    "p.legend.background_fill_color = \"navy\"\n",
    "p.legend.background_fill_alpha = 0.2\n",
    "\n",
    "show(p)           "
   ]
  },
  {
   "cell_type": "code",
   "execution_count": null,
   "id": "5159075f-6444-47af-bb67-03e98cd82b49",
   "metadata": {},
   "outputs": [],
   "source": []
  }
 ],
 "metadata": {
  "kernelspec": {
   "display_name": "Python 3 (ipykernel)",
   "language": "python",
   "name": "python3"
  },
  "language_info": {
   "codemirror_mode": {
    "name": "ipython",
    "version": 3
   },
   "file_extension": ".py",
   "mimetype": "text/x-python",
   "name": "python",
   "nbconvert_exporter": "python",
   "pygments_lexer": "ipython3",
   "version": "3.11.5"
  }
 },
 "nbformat": 4,
 "nbformat_minor": 5
}
