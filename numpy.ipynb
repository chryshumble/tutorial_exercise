{
 "cells": [
  {
   "cell_type": "code",
   "execution_count": 3,
   "id": "6e70dee7",
   "metadata": {},
   "outputs": [],
   "source": [
    "import numpy as np"
   ]
  },
  {
   "cell_type": "markdown",
   "id": "7fa53712",
   "metadata": {},
   "source": [
    "### the cell below defines randon number generator as gen\n"
   ]
  },
  {
   "cell_type": "code",
   "execution_count": 4,
   "id": "2e373109",
   "metadata": {},
   "outputs": [],
   "source": [
    "gen = np.random.default_rng()"
   ]
  },
  {
   "cell_type": "markdown",
   "id": "fe25010c",
   "metadata": {},
   "source": [
    "#### generating 100 random integers between 0 and 50 using np.random.default_rng() syntax."
   ]
  },
  {
   "cell_type": "code",
   "execution_count": 6,
   "id": "f2ad2bd0",
   "metadata": {},
   "outputs": [
    {
     "data": {
      "text/plain": [
       "array([ 0, 22, 25, 21, 35, 28, 33,  5, 16, 19, 47, 29, 10, 35, 21, 44, 37,\n",
       "       38, 19, 28, 22, 49, 26, 27,  4, 17, 12,  0,  1, 11, 17, 39, 39,  0,\n",
       "       46, 24,  2, 49,  8,  5, 16, 44, 41, 18, 39, 26, 30, 14,  6, 10, 10,\n",
       "       37, 10,  1, 36, 33, 45, 41, 36, 11, 18, 38, 43, 41,  2, 24,  4, 26,\n",
       "       17,  8, 50, 18, 37, 46, 37, 29, 37, 49,  6, 20, 25, 44, 15,  4,  6,\n",
       "       32, 27,  3, 23, 12, 10,  2, 45, 15, 24, 27, 38, 17, 16, 48],\n",
       "      dtype=int64)"
      ]
     },
     "execution_count": 6,
     "metadata": {},
     "output_type": "execute_result"
    }
   ],
   "source": [
    "x = gen.integers(0, 51, 100)\n",
    "x"
   ]
  },
  {
   "cell_type": "markdown",
   "id": "f27c55c1",
   "metadata": {},
   "source": [
    "### the cell below returns the maximum number in the array"
   ]
  },
  {
   "cell_type": "code",
   "execution_count": 8,
   "id": "5b100d94",
   "metadata": {},
   "outputs": [
    {
     "data": {
      "text/plain": [
       "50"
      ]
     },
     "execution_count": 8,
     "metadata": {},
     "output_type": "execute_result"
    }
   ],
   "source": [
    "np.max(x)"
   ]
  },
  {
   "cell_type": "markdown",
   "id": "d4624b27",
   "metadata": {},
   "source": [
    "### the cell below returns the average of the arrays."
   ]
  },
  {
   "cell_type": "code",
   "execution_count": 7,
   "id": "08d18d51",
   "metadata": {},
   "outputs": [
    {
     "data": {
      "text/plain": [
       "23.97"
      ]
     },
     "execution_count": 7,
     "metadata": {},
     "output_type": "execute_result"
    }
   ],
   "source": [
    "np.mean(x)"
   ]
  },
  {
   "cell_type": "markdown",
   "id": "776b545e",
   "metadata": {},
   "source": [
    "### the code below returns the lowest number in the array."
   ]
  },
  {
   "cell_type": "code",
   "execution_count": 9,
   "id": "40906978",
   "metadata": {},
   "outputs": [
    {
     "data": {
      "text/plain": [
       "0"
      ]
     },
     "execution_count": 9,
     "metadata": {},
     "output_type": "execute_result"
    }
   ],
   "source": [
    "np.min(x)"
   ]
  },
  {
   "cell_type": "code",
   "execution_count": 12,
   "id": "1f238937",
   "metadata": {},
   "outputs": [
    {
     "data": {
      "text/plain": [
       "[26,\n",
       " 48,\n",
       " 51,\n",
       " 47,\n",
       " 61,\n",
       " 54,\n",
       " 59,\n",
       " 31,\n",
       " 42,\n",
       " 45,\n",
       " 73,\n",
       " 55,\n",
       " 36,\n",
       " 61,\n",
       " 47,\n",
       " 70,\n",
       " 63,\n",
       " 64,\n",
       " 45,\n",
       " 54,\n",
       " 48,\n",
       " 75,\n",
       " 52,\n",
       " 53,\n",
       " 30,\n",
       " 43,\n",
       " 38,\n",
       " 26,\n",
       " 27,\n",
       " 37,\n",
       " 43,\n",
       " 65,\n",
       " 65,\n",
       " 26,\n",
       " 72,\n",
       " 50,\n",
       " 28,\n",
       " 75,\n",
       " 34,\n",
       " 31,\n",
       " 42,\n",
       " 70,\n",
       " 67,\n",
       " 44,\n",
       " 65,\n",
       " 52,\n",
       " 56,\n",
       " 40,\n",
       " 32,\n",
       " 36,\n",
       " 36,\n",
       " 63,\n",
       " 36,\n",
       " 27,\n",
       " 62,\n",
       " 59,\n",
       " 71,\n",
       " 67,\n",
       " 62,\n",
       " 37,\n",
       " 44,\n",
       " 64,\n",
       " 69,\n",
       " 67,\n",
       " 28,\n",
       " 50,\n",
       " 30,\n",
       " 52,\n",
       " 43,\n",
       " 34,\n",
       " 76,\n",
       " 44,\n",
       " 63,\n",
       " 72,\n",
       " 63,\n",
       " 55,\n",
       " 63,\n",
       " 75,\n",
       " 32,\n",
       " 46,\n",
       " 51,\n",
       " 70,\n",
       " 41,\n",
       " 30,\n",
       " 32,\n",
       " 58,\n",
       " 53,\n",
       " 29,\n",
       " 49,\n",
       " 38,\n",
       " 36,\n",
       " 28,\n",
       " 71,\n",
       " 41,\n",
       " 50,\n",
       " 53,\n",
       " 64,\n",
       " 43,\n",
       " 42,\n",
       " 74]"
      ]
     },
     "execution_count": 12,
     "metadata": {},
     "output_type": "execute_result"
    }
   ],
   "source": [
    "x2 = [25 + i + 1 for i in x]\n",
    "x2"
   ]
  },
  {
   "cell_type": "code",
   "execution_count": null,
   "id": "b2b8862c",
   "metadata": {},
   "outputs": [],
   "source": []
  }
 ],
 "metadata": {
  "kernelspec": {
   "display_name": "Python 3 (ipykernel)",
   "language": "python",
   "name": "python3"
  },
  "language_info": {
   "codemirror_mode": {
    "name": "ipython",
    "version": 3
   },
   "file_extension": ".py",
   "mimetype": "text/x-python",
   "name": "python",
   "nbconvert_exporter": "python",
   "pygments_lexer": "ipython3",
   "version": "3.11.5"
  }
 },
 "nbformat": 4,
 "nbformat_minor": 5
}
